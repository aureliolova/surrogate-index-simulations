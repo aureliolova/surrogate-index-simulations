{
 "cells": [
  {
   "cell_type": "code",
   "execution_count": 1,
   "metadata": {},
   "outputs": [],
   "source": [
    "import manim"
   ]
  },
  {
   "cell_type": "code",
   "execution_count": 2,
   "metadata": {},
   "outputs": [],
   "source": [
    "class PersonIcon(manim.SVGMobject):\n",
    "    CONFIG = {\n",
    "        \"stroke_width\": 1,\n",
    "        \"fill_color\": manim.BLUE,\n",
    "        \"height\": 0.5,\n",
    "        \"width\": 0.5,\n",
    "    }\n",
    "\n",
    "    def __init__(self, **kwargs):\n",
    "        super().__init__(\"../assets/person.svg\", **kwargs)\n"
   ]
  },
  {
   "cell_type": "code",
   "execution_count": 66,
   "metadata": {},
   "outputs": [
    {
     "data": {
      "text/html": [
       "<pre style=\"white-space:pre;overflow-x:auto;line-height:normal;font-family:Menlo,'DejaVu Sans Mono',consolas,'Courier New',monospace\">Manim Community <span style=\"color: #008000; text-decoration-color: #008000\">v0.18.1</span>\n",
       "\n",
       "</pre>\n"
      ],
      "text/plain": [
       "Manim Community \u001b[32mv0.\u001b[0m\u001b[32m18.1\u001b[0m\n",
       "\n"
      ]
     },
     "metadata": {},
     "output_type": "display_data"
    },
    {
     "name": "stderr",
     "output_type": "stream",
     "text": [
      "                                                                                               \r"
     ]
    },
    {
     "data": {
      "text/html": [
       "<video src=\"media/jupyter/Scene@2024-10-13@16-09-49.mp4\" controls autoplay loop style=\"max-width: 60%;\"  >\n",
       "      Your browser does not support the <code>video</code> element.\n",
       "    </video>"
      ],
      "text/plain": [
       "<IPython.core.display.Video object>"
      ]
     },
     "metadata": {},
     "output_type": "display_data"
    }
   ],
   "source": [
    "%%manim -qm -v WARNING Scene\n",
    "\n",
    "class Scene(manim.Scene):\n",
    "    def construct(self):\n",
    "        icon = PersonIcon(**PersonIcon.CONFIG)\n",
    "        grid = [6, 10]\n",
    "        total_icons = grid[0] * grid[1]\n",
    "        icons = manim.VGroup(*[icon.copy() for _ in range(total_icons)])\n",
    "        icons.arrange_in_grid(*grid)\n",
    "        control_icons = icons[0:total_icons // 2]\n",
    "        variant_icons = icons[len(control_icons):]\n",
    "        self.play(\n",
    "            manim.Write(icons, run_time=1)\n",
    "        )\n",
    "        path = manim.Line(manim.ORIGIN, manim.LEFT*4.5)\n",
    "        anim_group = manim.Succession(\n",
    "            manim.MoveAlongPath(icons, path),\n",
    "            manim.ScaleInPlace(icons, 0.5)\n",
    "        )\n",
    "        self.play(\n",
    "            anim_group,\n",
    "            run_time=0.5\n",
    "        )\n",
    "        self.play(\n",
    "            variant_icons.animate.set_fill(manim.RED),\n",
    "        )\n",
    "\n",
    "        control_example = control_icons[0]\n",
    "        control_example_og_coords = control_example.get_center()\n",
    "        variant_example = variant_icons[0]\n",
    "        variant_example_og_coords = variant_example.get_center()\n",
    "\n",
    "        self.play(\n",
    "            control_example.animate.move_to(manim.ORIGIN*2+manim.UP).scale(4),\n",
    "            variant_example.animate.move_to(manim.ORIGIN*2+manim.DOWN).scale(4),\n",
    "            run_time=0.5\n",
    "        )\n",
    "        self.wait(5)\n",
    "\n"
   ]
  },
  {
   "cell_type": "code",
   "execution_count": 61,
   "metadata": {},
   "outputs": [
    {
     "data": {
      "text/plain": [
       "array([0., 1., 0.])"
      ]
     },
     "execution_count": 61,
     "metadata": {},
     "output_type": "execute_result"
    }
   ],
   "source": []
  },
  {
   "cell_type": "code",
   "execution_count": 10,
   "metadata": {},
   "outputs": [
    {
     "name": "stderr",
     "output_type": "stream",
     "text": [
      "UsageError: %%manim is a cell magic, but the cell body is empty. Did you mean the line magic %manim (single %)?\n"
     ]
    }
   ],
   "source": []
  },
  {
   "cell_type": "code",
   "execution_count": null,
   "metadata": {},
   "outputs": [],
   "source": []
  }
 ],
 "metadata": {
  "kernelspec": {
   "display_name": ".venv",
   "language": "python",
   "name": "python3"
  },
  "language_info": {
   "codemirror_mode": {
    "name": "ipython",
    "version": 3
   },
   "file_extension": ".py",
   "mimetype": "text/x-python",
   "name": "python",
   "nbconvert_exporter": "python",
   "pygments_lexer": "ipython3",
   "version": "3.10.12"
  }
 },
 "nbformat": 4,
 "nbformat_minor": 2
}
